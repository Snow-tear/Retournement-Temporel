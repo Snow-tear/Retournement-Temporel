{
 "cells": [
  {
   "cell_type": "markdown",
   "id": "d50201f4",
   "metadata": {},
   "source": [
    "1. Intro de RT\n",
    "2. Comment simuler (Description mathématique, schéma utilisé..... (copier coller depuis mi-rapport))\n",
    "3. Demos de simulation\n",
    "4. Différent test"
   ]
  }
 ],
 "metadata": {
  "kernelspec": {
   "display_name": "Python 3 (ipykernel)",
   "language": "python",
   "name": "python3"
  },
  "language_info": {
   "codemirror_mode": {
    "name": "ipython",
    "version": 3
   },
   "file_extension": ".py",
   "mimetype": "text/x-python",
   "name": "python",
   "nbconvert_exporter": "python",
   "pygments_lexer": "ipython3",
   "version": "3.11.3"
  }
 },
 "nbformat": 4,
 "nbformat_minor": 5
}
