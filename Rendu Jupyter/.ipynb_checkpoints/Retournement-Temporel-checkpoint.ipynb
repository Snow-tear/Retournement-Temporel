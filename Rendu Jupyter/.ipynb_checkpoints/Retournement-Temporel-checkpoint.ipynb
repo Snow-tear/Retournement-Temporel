{
 "cells": [
  {
   "cell_type": "markdown",
   "id": "d50201f4",
   "metadata": {},
   "source": [
    "1. Intro de RT\n",
    "2. Comment simuler (Description mathématique, schéma utilisé..... (copier coller depuis mi-rapport))\n",
    "3. Demos de simulation\n",
    "4. Différent test"
   ]
  },
  {
   "cell_type": "markdown",
   "id": "c0a7fbcd",
   "metadata": {},
   "source": [
    "# Le retournement temporel\n",
    "\n",
    "> Le retournement temporel (RT) est une technique utilisée dans divers domaines tels que le contrôle non destructif, le diagnostic médical et les télécommunications. Cette technique repose sur l’invariance de l’équation des ondes par renversement du temps. \n",
    ">\n",
    "> Le but du projet est de développer un simulateur de retournement temporel en 2D pour des équations d’ondes acoustiques. La méthode des différences finies sera utilisée pour résoudre le modèle en temporel. Les effets des conditions de milieu et l’influence des capteurs seront étudiés. L’objectif final est de retrouver le message caché dans une source initiale."
   ]
  },
  {
   "cell_type": "markdown",
   "id": "22fb48b7",
   "metadata": {},
   "source": [
    "## Fonctionnement\n",
    "Voici une vidéo qui démonstre le fonctionnement du RT."
   ]
  },
  {
   "cell_type": "markdown",
   "id": "68e205d7",
   "metadata": {},
   "source": [
    "<video width=\"960\" height=\"540\" src=\"video/正心.mp4\" controls autoplay align=\"center\"></video>"
   ]
  }
 ],
 "metadata": {
  "kernelspec": {
   "display_name": "Python 3 (ipykernel)",
   "language": "python",
   "name": "python3"
  },
  "language_info": {
   "codemirror_mode": {
    "name": "ipython",
    "version": 3
   },
   "file_extension": ".py",
   "mimetype": "text/x-python",
   "name": "python",
   "nbconvert_exporter": "python",
   "pygments_lexer": "ipython3",
   "version": "3.11.3"
  }
 },
 "nbformat": 4,
 "nbformat_minor": 5
}
