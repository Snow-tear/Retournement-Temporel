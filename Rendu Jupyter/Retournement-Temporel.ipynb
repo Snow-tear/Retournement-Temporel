{
 "cells": [
  {
   "cell_type": "markdown",
   "id": "d50201f4",
   "metadata": {},
   "source": [
    "1. Intro de RT\n",
    "2. Comment simuler (Description mathématique, schéma utilisé..... (copier coller depuis mi-rapport))\n",
    "3. Demos de simulation\n",
    "4. Différent test"
   ]
  },
  {
   "cell_type": "markdown",
   "id": "c0a7fbcd",
   "metadata": {},
   "source": [
    "# Le retournement temporel\n",
    "\n",
    "> Le retournement temporel (RT) est une technique utilisée dans divers domaines tels que le contrôle non destructif, le diagnostic médical et les télécommunications. Cette technique repose sur l’invariance de l’équation des ondes par renversement du temps. \n",
    ">\n",
    "> Le but du projet est de développer un simulateur de retournement temporel en 2D pour des équations d’ondes acoustiques. La méthode des différences finies sera utilisée pour résoudre le modèle en temporel. Les effets des conditions de milieu et l’influence des capteurs seront étudiés. L’objectif final est de retrouver le message caché dans une source initiale.\n",
    "\n",
    "## Une première impression\n",
    "Voici une vidéo qui démonstre le fonctionnement du RT.\n",
    "<div align=\"center\"><video width=\"960\" height=\"540\" src=\"video/简单单点RT.mp4\" controls autoplay ></video></div>\n",
    "<table><tr><td bgcolor=red ><font color=white size=4>à compléter</font></td></tr></table>\n",
    "\n",
    "Dans la vidéo, on voit les étapes de RT :\n",
    "1. source...ondes...attendre que la vague quitte la zone entourée par le capteur...\n",
    "2. capteur.... enregistrer...\n",
    "3. RT... (A l'instant..., clear... renvoyer...)\n",
    "4. refocalise...\n",
    "Le RT marche aussi bien avec les sources multiples.\n",
    "<div align=\"center\"><video width=\"960\" height=\"540\" src=\"video/简单多点RT.mp4\" controls autoplay ></video></div>\n",
    "<table><tr ><td bgcolor=red ><font color=white size=4>à compléter</font></td></tr></table>\n",
    "\n",
    "commentaire\n"
   ]
  }
 ],
 "metadata": {
  "celltoolbar": "Raw Cell Format",
  "kernelspec": {
   "display_name": "Python 3 (ipykernel)",
   "language": "python",
   "name": "python3"
  },
  "language_info": {
   "codemirror_mode": {
    "name": "ipython",
    "version": 3
   },
   "file_extension": ".py",
   "mimetype": "text/x-python",
   "name": "python",
   "nbconvert_exporter": "python",
   "pygments_lexer": "ipython3",
   "version": "3.11.3"
  }
 },
 "nbformat": 4,
 "nbformat_minor": 5
}
