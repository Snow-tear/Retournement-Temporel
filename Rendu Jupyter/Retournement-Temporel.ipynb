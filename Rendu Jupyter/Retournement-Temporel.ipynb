{
 "cells": [
  {
   "cell_type": "markdown",
   "id": "3d36d3a7",
   "metadata": {
    "toc": true
   },
   "source": [
    "<h1>Table of Contents<span class=\"tocSkip\"></span></h1>\n",
    "<div class=\"toc\"><ul class=\"toc-item\"><li><span><a href=\"#Le-retournement-temporel\" data-toc-modified-id=\"Le-retournement-temporel-1\"><span class=\"toc-item-num\">1&nbsp;&nbsp;</span>Le retournement temporel</a></span><ul class=\"toc-item\"><li><span><a href=\"#Une-première-impression\" data-toc-modified-id=\"Une-première-impression-1.1\"><span class=\"toc-item-num\">1.1&nbsp;&nbsp;</span>Une première impression</a></span></li><li><span><a href=\"#Démarche-scientifique-et-les-méthodes-numériques\" data-toc-modified-id=\"Démarche-scientifique-et-les-méthodes-numériques-1.2\"><span class=\"toc-item-num\">1.2&nbsp;&nbsp;</span>Démarche scientifique et les méthodes numériques</a></span><ul class=\"toc-item\"><li><span><a href=\"#Expression-mathématique\" data-toc-modified-id=\"Expression-mathématique-1.2.1\"><span class=\"toc-item-num\">1.2.1&nbsp;&nbsp;</span>Expression mathématique</a></span></li><li><span><a href=\"#Approche-numérique\" data-toc-modified-id=\"Approche-numérique-1.2.2\"><span class=\"toc-item-num\">1.2.2&nbsp;&nbsp;</span>Approche numérique</a></span></li></ul></li></ul></li></ul></div>"
   ]
  },
  {
   "cell_type": "markdown",
   "id": "c0a7fbcd",
   "metadata": {},
   "source": [
    "# Le retournement temporel\n",
    "\n",
    "> Le retournement temporel (RT) est une technique utilisée dans divers domaines tels que le contrôle non destructif, le diagnostic médical et les télécommunications. Cette technique repose sur l’invariance de l’équation des ondes par renversement du temps. \n",
    ">\n",
    "> Le but du projet est de développer un simulateur de retournement temporel en 2D pour des équations d’ondes acoustiques. La méthode des différences finies sera utilisée pour résoudre le modèle en temporel. Les effets des conditions de milieu et l’influence des capteurs seront étudiés. L’objectif final est de retrouver le message caché dans une source initiale.\n",
    "\n",
    "## Une première impression\n",
    "Voici une vidéo qui démonstre le fonctionnement du RT.\n",
    "<div align=\"center\"><video width=\"960\" height=\"540\" src=\"video/简单单点RT.mp4\" controls autoplay ></video></div>\n",
    "<table><tr><td bgcolor=red ><font color=white size=4>à compléter</font></td></tr></table>\n",
    "\n",
    "Dans la vidéo, on voit les étapes de RT :\n",
    "1. source...ondes...attendre que la vague quitte la zone entourée par le capteur...\n",
    "2. capteur.... enregistrer...\n",
    "3. RT... (A l'instant..., clear... renvoyer...)\n",
    "4. refocalise...\n",
    "Le RT marche aussi bien avec les sources multiples.\n",
    "<div align=\"center\"><video width=\"960\" height=\"540\" src=\"video/简单多点RT.mp4\" controls autoplay ></video></div>\n",
    "<table><tr ><td bgcolor=red ><font color=white size=4>à compléter</font></td></tr></table>\n",
    "\n",
    "commentaire\n",
    "\n",
    "## Démarche scientifique et les méthodes numériques\n",
    "Le retournement temporel est une technique complexe alors sa simulation comporte plusieurs étapes. Tout d'abord il a fallu l'exprimer en langage mathématique : il s'agit d'écrire l'équation à résoudre et les conditions initiales ou les conditions exigées. Ensuite on réalise la simulation des ondes, avant de mettre en place les capteurs. Enfin, nous avons ajouté dans notre simulateur les codes faisant réémettre les ondes enregistrées par les capteurs au cours de la simulation.\n",
    "\n",
    "### Expression mathématique\n",
    "Comme le retournement temporel peut être appliqué aux ondes acoustiques, aux vagues, aux ondes électromagnétiques et tout autre type d'onde, notre simulateur consiste en la résolution de l'équation des ondes, soit l'équation de d'Alembert : $\\ddot{u}=c^2\\Delta u $ où $u$ est la fonction d'onde, $c$ la vitesse de propagation et $\\Delta$ l'opérateur laplacien.\n",
    "\n",
    "Cette formule est vraie pour tous les points dans l'espace de propagation qui ne sont pas des sources, c'est-à-dire :\n",
    "\n",
    "$$\n",
    "    \\forall (t,\\vec{r})\\in ([0,T]\\times\\mathbb{R}^2)\\backslash\\bigcup\\limits_{k\\in sources}[t_{i_k},t_{f_k}]\\times\\{\\vec{r}_k\\}\n",
    "$$\n",
    "\n",
    "\n",
    "Noter que pour simplifier le problème et faciliter les calculs, nous nous sommes ramenés dans le cas de 2D, et l'expression de laplacien est alors $\\Delta=\\frac{\\partial^2}{{\\partial x}^2}+\\frac{\\partial^2}{{\\partial y}^2}$.\n",
    "\n",
    "On introduit ensuite dans l'espace les perturbations comme les sources d'onde. Cela étant, leurs fonctions en fonction de temps sont parfaitement connues. En posant la non présence des ondes à $t=0$, on a finalement:\n",
    "\n",
    "$$\n",
    "\\begin{align*}\n",
    "     & \\left\\{\n",
    "    \\begin{aligned}\n",
    "         & \\ddot{u}(t,\\vec{r})=c^2\\Delta u(t,\\vec{r})\\ ,\\ (t,\\vec{r})\\in ([0,T]\\times\\mathbb{R}^2)\\backslash\\bigcup\\limits_{k\\in sources}[t_{i_k},t_{f_k}]\\times\\{\\vec{r}_k\\} \\\\\n",
    "         & u(t,\\vec{r})=f_k(t,\\vec{r})\\ ,\\ (t,\\vec{r})\\in\\bigcup\\limits_{k\\in sources}[t_{i_k},t_{f_k}]\\times\\{\\vec{r}_k\\}                                                                                                                    \\\\\n",
    "    \\end{aligned}\n",
    "    \\right.\n",
    "\\end{align*}\n",
    "$$\n",
    "\n",
    "Où les $f_k$ est la fonction de perturbation de la k-ième source.\n",
    "\n",
    "<table><tr ><td bgcolor=red ><font color=white size=4>à compléter : Expression mathématique pour la phase de RT</font></td></tr></table>\n",
    "\n",
    "### Approche numérique\n",
    "Afin de trouver la solution numérique de l'équation des ondes, nous utilisons la méthode de différence finie, avec une discrétisation de l'espace et du temps. Le temps est divisé en pas de $dt$, l'espace en pas de $dl=dx=dy$.\n",
    "\n",
    "Afin de rendre le code plus lisible et moins confus, nous avons inventé les conventions suivantes. Nous avons suivi cette convention tout au long de notre code.\n",
    "\n",
    "<img  src=\"img/Convention et Variables.png\" >\n",
    "\n",
    "L'équation des ondes étant une équation d'ordre 2 et ne dépendant pas de la dérivée du premier ordre, nous avons choisi le schéma explicite de Verlet à deux pas : $u(t+dt)=2u(t)-u(t-dt)+\\ddot{u}(t){dt}^2$. Il permet un calcul rapide et est facile à implémenter.\n",
    "\n",
    "<table><tr ><td bgcolor=red ><font color=white size=4>à compléter : Comment calculer laplacien?</font></td></tr></table>\n"
   ]
  }
 ],
 "metadata": {
  "celltoolbar": "Raw Cell Format",
  "kernelspec": {
   "display_name": "Python 3 (ipykernel)",
   "language": "python",
   "name": "python3"
  },
  "language_info": {
   "codemirror_mode": {
    "name": "ipython",
    "version": 3
   },
   "file_extension": ".py",
   "mimetype": "text/x-python",
   "name": "python",
   "nbconvert_exporter": "python",
   "pygments_lexer": "ipython3",
   "version": "3.10.6"
  },
  "toc": {
   "base_numbering": 1,
   "nav_menu": {},
   "number_sections": true,
   "sideBar": true,
   "skip_h1_title": false,
   "title_cell": "Table of Contents",
   "title_sidebar": "Contents",
   "toc_cell": true,
   "toc_position": {},
   "toc_section_display": true,
   "toc_window_display": false
  }
 },
 "nbformat": 4,
 "nbformat_minor": 5
}
